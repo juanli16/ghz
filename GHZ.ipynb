{
 "cells": [
  {
   "cell_type": "markdown",
   "metadata": {},
   "source": [
    "**Define verifier class**"
   ]
  },
  {
   "cell_type": "code",
   "execution_count": 12,
   "metadata": {},
   "outputs": [],
   "source": [
    "import random\n",
    "from functools import reduce\n",
    "\n",
    "class Verifier:\n",
    "    \n",
    "    def __init__(self):\n",
    "        self.question = [[0, 0, 0], [1, 1, 0], [1, 0, 1], [0, 1, 1]]\n",
    "    \n",
    "    # randomly sample one question\n",
    "    def sample_question(self):\n",
    "        return random.choice(self.question)\n",
    "    \n",
    "    def query_alice(self, question):\n",
    "        return question[0]\n",
    "    \n",
    "    def query_bob(self, question):\n",
    "        return question[1]\n",
    "    \n",
    "    def query_charlie(self, question):\n",
    "        return question[2]\n",
    "    \n",
    "    # check if the winning condition is satisfied.\n",
    "    def judge(self, question, a, b, c):\n",
    "        if a not in [0, 1] or b not in [0, 1] or c not in [0, 1]:\n",
    "            return false\n",
    "        \n",
    "        # xor(answer) == or(question)\n",
    "        return reduce((lambda x, y: (x + y) % 2), [a, b, c]) == reduce((lambda x, y: x | y), question)\n"
   ]
  },
  {
   "cell_type": "markdown",
   "metadata": {},
   "source": [
    "**Define player class**"
   ]
  },
  {
   "cell_type": "code",
   "execution_count": 18,
   "metadata": {},
   "outputs": [],
   "source": [
    "class player:\n",
    "    \n",
    "    \"\"\"\n",
    "    initialize player with their shared resources,\n",
    "    which will be typically a list of random bits.\n",
    "    ex: shared_resources = [c_1, c_2]\n",
    "    \"\"\"\n",
    "    def __init__(self, shared_resouces):\n",
    "        self.shared_resources = shared_resources\n",
    "        \n",
    "    \"\"\"\n",
    "    Player answer a given question with a predefined strategy\n",
    "    which is a function that takes in the shared resources and \n",
    "    question bit and output an answer bit\n",
    "    \"\"\"\n",
    "    def answer(self, question, strategy):\n",
    "        return strategy(self.shared_resources, question)"
   ]
  },
  {
   "cell_type": "code",
   "execution_count": null,
   "metadata": {},
   "outputs": [],
   "source": []
  }
 ],
 "metadata": {
  "kernelspec": {
   "display_name": "Python 3",
   "language": "python",
   "name": "python3"
  },
  "language_info": {
   "codemirror_mode": {
    "name": "ipython",
    "version": 3
   },
   "file_extension": ".py",
   "mimetype": "text/x-python",
   "name": "python",
   "nbconvert_exporter": "python",
   "pygments_lexer": "ipython3",
   "version": "3.7.5rc1+"
  }
 },
 "nbformat": 4,
 "nbformat_minor": 4
}
