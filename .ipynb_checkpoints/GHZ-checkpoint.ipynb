{
 "cells": [
  {
   "cell_type": "markdown",
   "metadata": {},
   "source": [
    "**Define verifier class**"
   ]
  },
  {
   "cell_type": "code",
   "execution_count": 38,
   "metadata": {},
   "outputs": [],
   "source": [
    "import random\n",
    "from functools import reduce\n",
    "\n",
    "class Verifier:\n",
    "    \n",
    "    def __init__(self):\n",
    "        self.questions = [[0, 0, 0], [1, 1, 0], [1, 0, 1], [0, 1, 1]]\n",
    "    \n",
    "    # randomly sample one question\n",
    "    def sample_question(self):\n",
    "        return random.choice(self.questions)\n",
    "    \n",
    "    def query_alice(self, question):\n",
    "        return question[0]\n",
    "    \n",
    "    def query_bob(self, question):\n",
    "        return question[1]\n",
    "    \n",
    "    def query_charlie(self, question):\n",
    "        return question[2]\n",
    "    \n",
    "    # check if the winning condition is satisfied.\n",
    "    def judge(self, question, a, b, c):\n",
    "        if a not in [0, 1] or b not in [0, 1] or c not in [0, 1]:\n",
    "            return false\n",
    "        \n",
    "        # xor(answer) == or(question)\n",
    "        return reduce((lambda x, y: (x + y) % 2), [a, b, c]) == reduce((lambda x, y: x | y), question)\n"
   ]
  },
  {
   "cell_type": "markdown",
   "metadata": {},
   "source": [
    "**Define player class**"
   ]
  },
  {
   "cell_type": "code",
   "execution_count": 39,
   "metadata": {},
   "outputs": [
    {
     "name": "stdout",
     "output_type": "stream",
     "text": [
      "0\n",
      "0\n"
     ]
    }
   ],
   "source": [
    "class Player:\n",
    "    \n",
    "    \"\"\"\n",
    "    initialize player with their shared resources,\n",
    "    which will be typically a list of random bits.\n",
    "    ex: shared_resources = [c_1, c_2]\n",
    "    \"\"\"\n",
    "    def __init__(self, random_resource):\n",
    "        self.r0 = random_resource[0]\n",
    "        self.r1 = random_resource[1]\n",
    "    \n",
    "    \"\"\"\n",
    "    we will now define deterministic strategies:\n",
    "    On one bit input, there are two possible deterministic strategies:\n",
    "    output the same input bit, or output the opposite one.\n",
    "    This can be captured by the following equation:\n",
    "    a = x * r_0 \\or r_1\n",
    "    where (x, a) are the input and output for Alice, and r_0, r_1 are the random bits.\n",
    "    \"\"\" \n",
    "    def strategy(self, question):\n",
    "        return (question * self.r0 + self.r1) % 2\n",
    "        \n",
    "    \"\"\"\n",
    "    Player answer a given question with a predefined strategy\n",
    "    which is a function that takes in the shared resources and \n",
    "    question bit and output an answer bit\n",
    "    \"\"\"\n",
    "    def answer(self, question):\n",
    "        return self.strategy(question)\n",
    "    \n",
    "# test run:\n",
    "Alice = Player([0,0]) # Alice with a random bits r_0 = 0, r_1 = 0\n",
    "\n",
    "print(Alice.answer(0)) # x = 0\n",
    "print(Alice.answer(1)) # x = 1"
   ]
  },
  {
   "cell_type": "code",
   "execution_count": 40,
   "metadata": {},
   "outputs": [
    {
     "name": "stdout",
     "output_type": "stream",
     "text": [
      "64\n",
      "32\n"
     ]
    }
   ],
   "source": [
    "# We will now enumerate all 64 possible joint deterministic strategies\n",
    "def generate_randomness():\n",
    "    single = [[r0, r1] for r0 in [0, 1] for r1 in [0, 1]]\n",
    "    return [[x, y, z] for x in single for y in single for z in single]\n",
    "\n",
    "def init_player(random_bits):\n",
    "    players = [Player([r[0], r[1]]) for r in random_bits]\n",
    "    return players[0], players[1], players[2]\n",
    "\n",
    "random_bits_list = generate_randomness()\n",
    "print(len(random_bits_list))\n",
    "\n",
    "vic = Verifier()\n",
    "optimal_strategy = []\n",
    "for random_bits in random_bits_list:\n",
    "    Alice, Bob, Charlie = init_player(random_bits)\n",
    "    win_prob = 0\n",
    "    for question in vic.questions:\n",
    "        win_prob = win_prob + vic.judge(question,\n",
    "                                        Alice.answer(vic.query_alice(question)),\n",
    "                                        Bob.answer(vic.query_bob(question)),\n",
    "                                        Charlie.answer(vic.query_charlie(question))\n",
    "                                       )\n",
    "    if win_prob == 3:\n",
    "        optimal_strategy.append(random_bits)\n",
    "print(len(optimal_strategy))"
   ]
  },
  {
   "cell_type": "code",
   "execution_count": 41,
   "metadata": {},
   "outputs": [
    {
     "name": "stdout",
     "output_type": "stream",
     "text": [
      "[[0, 0], [0, 0], [0, 1]]\n",
      "[[0, 0], [0, 0], [1, 0]]\n",
      "[[0, 0], [0, 1], [0, 0]]\n",
      "[[0, 0], [0, 1], [1, 1]]\n",
      "[[0, 0], [1, 0], [0, 0]]\n",
      "[[0, 0], [1, 0], [1, 0]]\n",
      "[[0, 0], [1, 1], [0, 1]]\n",
      "[[0, 0], [1, 1], [1, 1]]\n",
      "[[0, 1], [0, 0], [0, 0]]\n",
      "[[0, 1], [0, 0], [1, 1]]\n",
      "[[0, 1], [0, 1], [0, 1]]\n",
      "[[0, 1], [0, 1], [1, 0]]\n",
      "[[0, 1], [1, 0], [0, 1]]\n",
      "[[0, 1], [1, 0], [1, 1]]\n",
      "[[0, 1], [1, 1], [0, 0]]\n",
      "[[0, 1], [1, 1], [1, 0]]\n",
      "[[1, 0], [0, 0], [0, 0]]\n",
      "[[1, 0], [0, 0], [1, 0]]\n",
      "[[1, 0], [0, 1], [0, 1]]\n",
      "[[1, 0], [0, 1], [1, 1]]\n",
      "[[1, 0], [1, 0], [0, 0]]\n",
      "[[1, 0], [1, 0], [1, 1]]\n",
      "[[1, 0], [1, 1], [0, 1]]\n",
      "[[1, 0], [1, 1], [1, 0]]\n",
      "[[1, 1], [0, 0], [0, 1]]\n",
      "[[1, 1], [0, 0], [1, 1]]\n",
      "[[1, 1], [0, 1], [0, 0]]\n",
      "[[1, 1], [0, 1], [1, 0]]\n",
      "[[1, 1], [1, 0], [0, 1]]\n",
      "[[1, 1], [1, 0], [1, 0]]\n",
      "[[1, 1], [1, 1], [0, 0]]\n",
      "[[1, 1], [1, 1], [1, 1]]\n"
     ]
    }
   ],
   "source": [
    "for s in optimal_strategy:\n",
    "    print(s)"
   ]
  },
  {
   "cell_type": "code",
   "execution_count": null,
   "metadata": {},
   "outputs": [],
   "source": []
  }
 ],
 "metadata": {
  "kernelspec": {
   "display_name": "Python 3",
   "language": "python",
   "name": "python3"
  },
  "language_info": {
   "codemirror_mode": {
    "name": "ipython",
    "version": 3
   },
   "file_extension": ".py",
   "mimetype": "text/x-python",
   "name": "python",
   "nbconvert_exporter": "python",
   "pygments_lexer": "ipython3",
   "version": "3.7.5rc1+"
  }
 },
 "nbformat": 4,
 "nbformat_minor": 4
}
