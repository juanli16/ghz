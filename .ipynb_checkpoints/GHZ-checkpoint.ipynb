{
 "cells": [
  {
   "cell_type": "markdown",
   "metadata": {},
   "source": [
    "**Define verifier class**"
   ]
  },
  {
   "cell_type": "code",
   "execution_count": 2,
   "metadata": {},
   "outputs": [],
   "source": [
    "import random\n",
    "from functools import reduce\n",
    "\n",
    "class Verifier:\n",
    "    \n",
    "    def __init__(self):\n",
    "        self.questions = [[0, 0, 0], [1, 1, 0], [1, 0, 1], [0, 1, 1]]\n",
    "    \n",
    "    # randomly sample one question\n",
    "    def sample_question(self):\n",
    "        return random.choice(self.questions)\n",
    "    \n",
    "    def query_alice(self, question):\n",
    "        return question[0]\n",
    "    \n",
    "    def query_bob(self, question):\n",
    "        return question[1]\n",
    "    \n",
    "    def query_charlie(self, question):\n",
    "        return question[2]\n",
    "    \n",
    "    # check if the winning condition is satisfied.\n",
    "    def judge(self, question, a, b, c):\n",
    "        if a not in [0, 1] or b not in [0, 1] or c not in [0, 1]:\n",
    "            return false\n",
    "        \n",
    "        # xor(answer) == or(question)\n",
    "        return reduce((lambda x, y: (x + y) % 2), [a, b, c]) == reduce((lambda x, y: x | y), question)\n"
   ]
  },
  {
   "cell_type": "markdown",
   "metadata": {},
   "source": [
    "**Define player class**"
   ]
  },
  {
   "cell_type": "code",
   "execution_count": 3,
   "metadata": {},
   "outputs": [
    {
     "name": "stdout",
     "output_type": "stream",
     "text": [
      "0\n",
      "0\n"
     ]
    }
   ],
   "source": [
    "class Player:\n",
    "    \n",
    "    \"\"\"\n",
    "    initialize player with their shared resources,\n",
    "    which will be typically a list of random bits.\n",
    "    ex: shared_resources = [c_1, c_2]\n",
    "    \"\"\"\n",
    "    def __init__(self, random_resource):\n",
    "        self.r0 = random_resource[0]\n",
    "        self.r1 = random_resource[1]\n",
    "    \n",
    "    \"\"\"\n",
    "    we will now define deterministic strategies:\n",
    "    On one bit input, there are two possible deterministic strategies:\n",
    "    output the same input bit, or output the opposite one.\n",
    "    This can be captured by the following equation:\n",
    "    a = x * r_0 \\or r_1\n",
    "    where (x, a) are the input and output for Alice, and r_0, r_1 are the random bits.\n",
    "    \"\"\" \n",
    "    def strategy(self, question):\n",
    "        return (question * self.r0 + self.r1) % 2\n",
    "        \n",
    "    \"\"\"\n",
    "    Player answer a given question with a predefined strategy\n",
    "    which is a function that takes in the shared resources and \n",
    "    question bit and output an answer bit\n",
    "    \"\"\"\n",
    "    def answer(self, question):\n",
    "        return self.strategy(question)\n",
    "    \n",
    "# test run:\n",
    "Alice = Player([0,0]) # Alice with a random bits r_0 = 0, r_1 = 0\n",
    "\n",
    "print(Alice.answer(0)) # x = 0\n",
    "print(Alice.answer(1)) # x = 1"
   ]
  },
  {
   "cell_type": "code",
   "execution_count": 4,
   "metadata": {},
   "outputs": [
    {
     "name": "stdout",
     "output_type": "stream",
     "text": [
      "64\n",
      "32\n"
     ]
    }
   ],
   "source": [
    "# We will now enumerate all 64 possible joint deterministic strategies\n",
    "def generate_randomness():\n",
    "    single = [[r0, r1] for r0 in [0, 1] for r1 in [0, 1]]\n",
    "    return [[x, y, z] for x in single for y in single for z in single]\n",
    "\n",
    "def init_player(random_bits):\n",
    "    players = [Player([r[0], r[1]]) for r in random_bits]\n",
    "    return players[0], players[1], players[2]\n",
    "\n",
    "random_bits_list = generate_randomness()\n",
    "print(len(random_bits_list))\n",
    "\n",
    "vic = Verifier()\n",
    "optimal_strategy = []\n",
    "for random_bits in random_bits_list:\n",
    "    Alice, Bob, Charlie = init_player(random_bits)\n",
    "    win_prob = 0\n",
    "    for question in vic.questions:\n",
    "        win_prob = win_prob + vic.judge(question,\n",
    "                                        Alice.answer(vic.query_alice(question)),\n",
    "                                        Bob.answer(vic.query_bob(question)),\n",
    "                                        Charlie.answer(vic.query_charlie(question))\n",
    "                                       )\n",
    "    if win_prob == 3:\n",
    "        optimal_strategy.append(random_bits)\n",
    "print(len(optimal_strategy))"
   ]
  },
  {
   "cell_type": "code",
   "execution_count": 5,
   "metadata": {},
   "outputs": [
    {
     "name": "stdout",
     "output_type": "stream",
     "text": [
      "[[0, 0], [0, 0], [0, 1]]\n",
      "[[0, 0], [0, 0], [1, 0]]\n",
      "[[0, 0], [0, 1], [0, 0]]\n",
      "[[0, 0], [0, 1], [1, 1]]\n",
      "[[0, 0], [1, 0], [0, 0]]\n",
      "[[0, 0], [1, 0], [1, 0]]\n",
      "[[0, 0], [1, 1], [0, 1]]\n",
      "[[0, 0], [1, 1], [1, 1]]\n",
      "[[0, 1], [0, 0], [0, 0]]\n",
      "[[0, 1], [0, 0], [1, 1]]\n",
      "[[0, 1], [0, 1], [0, 1]]\n",
      "[[0, 1], [0, 1], [1, 0]]\n",
      "[[0, 1], [1, 0], [0, 1]]\n",
      "[[0, 1], [1, 0], [1, 1]]\n",
      "[[0, 1], [1, 1], [0, 0]]\n",
      "[[0, 1], [1, 1], [1, 0]]\n",
      "[[1, 0], [0, 0], [0, 0]]\n",
      "[[1, 0], [0, 0], [1, 0]]\n",
      "[[1, 0], [0, 1], [0, 1]]\n",
      "[[1, 0], [0, 1], [1, 1]]\n",
      "[[1, 0], [1, 0], [0, 0]]\n",
      "[[1, 0], [1, 0], [1, 1]]\n",
      "[[1, 0], [1, 1], [0, 1]]\n",
      "[[1, 0], [1, 1], [1, 0]]\n",
      "[[1, 1], [0, 0], [0, 1]]\n",
      "[[1, 1], [0, 0], [1, 1]]\n",
      "[[1, 1], [0, 1], [0, 0]]\n",
      "[[1, 1], [0, 1], [1, 0]]\n",
      "[[1, 1], [1, 0], [0, 1]]\n",
      "[[1, 1], [1, 0], [1, 0]]\n",
      "[[1, 1], [1, 1], [0, 0]]\n",
      "[[1, 1], [1, 1], [1, 1]]\n"
     ]
    }
   ],
   "source": [
    "for s in optimal_strategy:\n",
    "    print(s)"
   ]
  },
  {
   "cell_type": "markdown",
   "metadata": {},
   "source": [
    "# How to interprete the strategies:\n",
    "\n",
    "strategies where r_0 is 0 means x * 0 \\xor r_1 = r_1, a constant output of r_1 regardless of the input bit x.\n",
    "\n",
    "strategies where r_0 is 1 measn x * 1 \\xor r_1 = x \\xor r_1.\n",
    "\n",
    "Therefore the following 4 strategies means:\n",
    "* [0, 0] = 0\n",
    "* [0, 1] = 1\n",
    "* [1, 0] = x * 1 + 0 = x\n",
    "* [1, 1] = x * 1 + 1 = \\bar{x}\n",
    "\n",
    "where x is the input bit.\n",
    "\n",
    "## We will now compute the exclusion set\n",
    "\n",
    "exclusion set is defined to be the set of inputs that an optimal deterministic strategy fails at."
   ]
  },
  {
   "cell_type": "code",
   "execution_count": 10,
   "metadata": {},
   "outputs": [
    {
     "name": "stdout",
     "output_type": "stream",
     "text": [
      "{'E0': ([0, 0, 0], [[0, 0], [0, 0], [0, 1]]), 'E1': ([1, 1, 0], [[0, 0], [0, 0], [1, 0]]), 'E2': ([0, 0, 0], [[0, 0], [0, 1], [0, 0]]), 'E3': ([1, 1, 0], [[0, 0], [0, 1], [1, 1]]), 'E4': ([1, 0, 1], [[0, 0], [1, 0], [0, 0]]), 'E5': ([0, 1, 1], [[0, 0], [1, 0], [1, 0]]), 'E6': ([1, 0, 1], [[0, 0], [1, 1], [0, 1]]), 'E7': ([0, 1, 1], [[0, 0], [1, 1], [1, 1]]), 'E8': ([0, 0, 0], [[0, 1], [0, 0], [0, 0]]), 'E9': ([1, 1, 0], [[0, 1], [0, 0], [1, 1]]), 'E10': ([0, 0, 0], [[0, 1], [0, 1], [0, 1]]), 'E11': ([1, 1, 0], [[0, 1], [0, 1], [1, 0]]), 'E12': ([1, 0, 1], [[0, 1], [1, 0], [0, 1]]), 'E13': ([0, 1, 1], [[0, 1], [1, 0], [1, 1]]), 'E14': ([1, 0, 1], [[0, 1], [1, 1], [0, 0]]), 'E15': ([0, 1, 1], [[0, 1], [1, 1], [1, 0]]), 'E16': ([0, 1, 1], [[1, 0], [0, 0], [0, 0]]), 'E17': ([1, 0, 1], [[1, 0], [0, 0], [1, 0]]), 'E18': ([0, 1, 1], [[1, 0], [0, 1], [0, 1]]), 'E19': ([1, 0, 1], [[1, 0], [0, 1], [1, 1]]), 'E20': ([1, 1, 0], [[1, 0], [1, 0], [0, 0]]), 'E21': ([0, 0, 0], [[1, 0], [1, 0], [1, 1]]), 'E22': ([1, 1, 0], [[1, 0], [1, 1], [0, 1]]), 'E23': ([0, 0, 0], [[1, 0], [1, 1], [1, 0]]), 'E24': ([0, 1, 1], [[1, 1], [0, 0], [0, 1]]), 'E25': ([1, 0, 1], [[1, 1], [0, 0], [1, 1]]), 'E26': ([0, 1, 1], [[1, 1], [0, 1], [0, 0]]), 'E27': ([1, 0, 1], [[1, 1], [0, 1], [1, 0]]), 'E28': ([1, 1, 0], [[1, 1], [1, 0], [0, 1]]), 'E29': ([0, 0, 0], [[1, 1], [1, 0], [1, 0]]), 'E30': ([1, 1, 0], [[1, 1], [1, 1], [0, 0]]), 'E31': ([0, 0, 0], [[1, 1], [1, 1], [1, 1]])}\n"
     ]
    }
   ],
   "source": [
    "exclusion = {}\n",
    "\n",
    "for i in range(len(optimal_strategy)):\n",
    "    Alice, Bob, Charlie = init_player(optimal_strategy[i])\n",
    "    for question in vic.questions:\n",
    "        if not vic.judge(question, \n",
    "                         Alice.answer(vic.query_alice(question)),\n",
    "                         Bob.answer(vic.query_bob(question)),\n",
    "                         Charlie.answer(vic.query_charlie(question))\n",
    "                        ):\n",
    "            exclusion['E{}'.format(i)] = (question, optimal_strategy[i])\n",
    "print(exclusion)\n",
    "    "
   ]
  },
  {
   "cell_type": "markdown",
   "metadata": {},
   "source": [
    "From above, we can see that for the same input, not just one optimal strategy fails at it. This is also obvious due to that fact that we have only 4 possible input sets, and 32 optimal deterministic strategies.\n",
    "We now use the equivalence relationship between exclusion sets to group them once more under some relabeling."
   ]
  },
  {
   "cell_type": "code",
   "execution_count": 19,
   "metadata": {},
   "outputs": [
    {
     "name": "stdout",
     "output_type": "stream",
     "text": [
      "E0:  [0, 0, 0]\n",
      "[[0, 0], [0, 0], [0, 1]]\n",
      "[[0, 0], [0, 1], [0, 0]]\n",
      "[[0, 1], [0, 0], [0, 0]]\n",
      "[[0, 1], [0, 1], [0, 1]]\n",
      "[[1, 0], [1, 0], [1, 1]]\n",
      "[[1, 0], [1, 1], [1, 0]]\n",
      "[[1, 1], [1, 0], [1, 0]]\n",
      "[[1, 1], [1, 1], [1, 1]]\n",
      "E1:  [0, 1, 1]\n",
      "[[0, 0], [1, 0], [1, 0]]\n",
      "[[0, 0], [1, 1], [1, 1]]\n",
      "[[0, 1], [1, 0], [1, 1]]\n",
      "[[0, 1], [1, 1], [1, 0]]\n",
      "[[1, 0], [0, 0], [0, 0]]\n",
      "[[1, 0], [0, 1], [0, 1]]\n",
      "[[1, 1], [0, 0], [0, 1]]\n",
      "[[1, 1], [0, 1], [0, 0]]\n",
      "E2:  [1, 0, 1]\n",
      "[[0, 0], [1, 0], [0, 0]]\n",
      "[[0, 0], [1, 1], [0, 1]]\n",
      "[[0, 1], [1, 0], [0, 1]]\n",
      "[[0, 1], [1, 1], [0, 0]]\n",
      "[[1, 0], [0, 0], [1, 0]]\n",
      "[[1, 0], [0, 1], [1, 1]]\n",
      "[[1, 1], [0, 0], [1, 1]]\n",
      "[[1, 1], [0, 1], [1, 0]]\n",
      "E3:  [1, 1, 0]\n",
      "[[0, 0], [0, 0], [1, 0]]\n",
      "[[0, 0], [0, 1], [1, 1]]\n",
      "[[0, 1], [0, 0], [1, 1]]\n",
      "[[0, 1], [0, 1], [1, 0]]\n",
      "[[1, 0], [1, 0], [0, 0]]\n",
      "[[1, 0], [1, 1], [0, 1]]\n",
      "[[1, 1], [1, 0], [0, 1]]\n",
      "[[1, 1], [1, 1], [0, 0]]\n"
     ]
    }
   ],
   "source": [
    "name_conversion = {'E0': [0, 0, 0], 'E1': [0, 1, 1], 'E2': [1, 0, 1], 'E3': [1, 1, 0]}\n",
    "exclusion_sets = {'E0': [], 'E1': [], 'E2': [], 'E3': []}\n",
    "i = 0\n",
    "for (question, strategy) in exclusion.values():\n",
    "    if question == [0, 0, 0]:\n",
    "        exclusion_sets['E0'].append(strategy)\n",
    "    elif question == [0, 1, 1]:\n",
    "        exclusion_sets['E1'].append(strategy)\n",
    "    elif question == [1, 0, 1]:\n",
    "        exclusion_sets['E2'].append(strategy)\n",
    "    else:\n",
    "        exclusion_sets['E3'].append(strategy)\n",
    "\n",
    "for key, value in exclusion_sets.items():\n",
    "    print(key + \": \", name_conversion[key])\n",
    "    for s in value:\n",
    "        print(s)\n",
    "\n",
    "    "
   ]
  },
  {
   "cell_type": "markdown",
   "metadata": {},
   "source": [
    "In this case, we can see that for each input, there are exactly 8 strategies that fails at it. In other words, the exclusion sets for Mermin-GHZ game are symmetric."
   ]
  }
 ],
 "metadata": {
  "kernelspec": {
   "display_name": "Python 3",
   "language": "python",
   "name": "python3"
  },
  "language_info": {
   "codemirror_mode": {
    "name": "ipython",
    "version": 3
   },
   "file_extension": ".py",
   "mimetype": "text/x-python",
   "name": "python",
   "nbconvert_exporter": "python",
   "pygments_lexer": "ipython3",
   "version": "3.7.5rc1+"
  }
 },
 "nbformat": 4,
 "nbformat_minor": 4
}
